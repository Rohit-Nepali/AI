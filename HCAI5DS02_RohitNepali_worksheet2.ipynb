{
  "nbformat": 4,
  "nbformat_minor": 0,
  "metadata": {
    "colab": {
      "provenance": [],
      "authorship_tag": "ABX9TyPzxJITQOt/mNT0J0Uum0y6",
      "include_colab_link": true
    },
    "kernelspec": {
      "name": "python3",
      "display_name": "Python 3"
    },
    "language_info": {
      "name": "python"
    }
  },
  "cells": [
    {
      "cell_type": "markdown",
      "metadata": {
        "id": "view-in-github",
        "colab_type": "text"
      },
      "source": [
        "<a href=\"https://colab.research.google.com/github/Rohit-Nepali/AI/blob/main/HCAI5DS02_RohitNepali_worksheet2.ipynb\" target=\"_parent\"><img src=\"https://colab.research.google.com/assets/colab-badge.svg\" alt=\"Open In Colab\"/></a>"
      ]
    },
    {
      "cell_type": "markdown",
      "source": [
        "##HCAI5DS02 Worksheet Solutions - Understanding and Quantifying Uncertainty"
      ],
      "metadata": {
        "id": "0zJtfRlRAwv6"
      }
    },
    {
      "cell_type": "markdown",
      "source": [
        "Section 2: Interpreting Probability\n",
        "\n",
        "Case 2: Election Forecasting\n",
        "\n",
        "Scenario: A political analyst says: \"Our model gives a 68% chance that Candidate A will win the upcoming election.\"\n",
        "\n",
        "1. What type of probability is this?\n",
        "-  This is empirical probability based on statistical models that analyze historical voting patterns, polling data, demographic trends, and other quantitative factors.\n",
        "\n",
        "2. What data and assumptions drive the model?\n",
        "- Data sources like historical election results, current polling data, demographic information, economic indicators, voter registration patterns, early voting data drive the model. And  assumptions like past voting patterns predict future behavior, polling samples are representative, demographic trends remain stable, economic conditions influence voting.\n",
        "\n",
        "3. How could different models yield different probabilities?\n",
        "\n",
        "  ans. In follwiing ways :\n",
        "- Different weighting of poll quality and recency.\n",
        "- Varying assumptions about voter turnout rates.\n",
        "- Different demographic modeling approaches\n",
        "- Distinct methods for handling undecided voters\n",
        "- Alternative approaches to incorporating economic factors"
      ],
      "metadata": {
        "id": "WEn0ZbFNBBiS"
      }
    },
    {
      "cell_type": "markdown",
      "source": [
        "Case 3: AI System Failure\n",
        "\n",
        "Scenario: An AI safety researcher claims: \"There is a 10% chance that a powerful AI system will behave unsafely by 2030.\"\n",
        "\n",
        "1. Is this a classical, empirical, or subjective probability?\n",
        "- This is subjective probability based on expert judgment, as there's insufficient historical data on powerful AI systems.\n",
        "\n",
        "2. What evidence or reasoning might support such a claim?\n",
        "- Analysis of current AI alignment research progress\n",
        "- Conlcuding reasons from existing AI system failures\n",
        "- Expert surveys and consensus building\n",
        "- Theoretical models of AI development timelines\n",
        "- Historical precedents from other emerging technologies\n",
        "\n",
        "3. What makes this probability controversial or uncertain?\n",
        "- Limited historical data on advanced AI systems\n",
        "- Disagreement among experts on AI development timelines\n",
        "- Uncertainty about future technological breakthroughs\n",
        "- Difficulty in defining \"unsafe behavior\"\n",
        "- Potential for significant bias in expert opinions"
      ],
      "metadata": {
        "id": "QfiHXIZ1CgcI"
      }
    },
    {
      "cell_type": "markdown",
      "source": [
        "Case 4: Insurance Pricing\n",
        "\n",
        "Scenario: An actuary sets car insurance rates based on:\n",
        "\n",
        "– Initial Policy Based on Historical Crash Data- E.g. 5% of 20 year old drivers file claims.\n",
        "\n",
        "– New policy- Drivers who pass a safe-driving course get a 10% discount.\n",
        "\n",
        "1. Are the initial rates classical, empirical, or subjective?\n",
        "- Empirical probability - based on actual historical claim frequencies observed in large datasets of driver behavior and outcomes.\n",
        "\n",
        "2. Is the discount's probability adjustment empirical or subjective? Why?\n",
        "- Empirical - if the 10% discount is based on observed data showing reduced claim rates among safe-driving course graduates\n",
        "- Subjective - if it's based on actuarial judgment about expected risk reduction without sufficient historical data"
      ],
      "metadata": {
        "id": "OmAdXuCZDy4G"
      }
    },
    {
      "cell_type": "markdown",
      "source": [
        "Case 5: Dynamic Pricing\n",
        "\n",
        "Scenario: A ride-sharing app charges ”2x surge pricing” during rain. The algorithm claims:–  ”There’s a 60% probability of rain at 5 PM,” using weather APIs and historical demand.\n",
        "\n",
        "1. Deconstruct the 60%: Is it empirical, subjective, or both?\n",
        "- Empirical component: Weather forecast models based on meteorological data\n",
        "\n",
        "- Subjective component: Demand prediction heuristics and pricing algorithm assumptions\n",
        "\n",
        "- Hybrid nature: Combines objective weather data with subjective demand modeling\n",
        "\n",
        "2. How might riders perceive this probability differently than the company?\n",
        "\n",
        "- Riders: May view it as exploitation or manipulation\n",
        "\n",
        "- Company: Sees it as supply-demand optimization\n",
        "\n",
        "- Perception gap: Transparency about probability sources and pricing logic\n",
        "\n",
        "3. How would you test if surge pricing is truly demand-driven vs. exploitative?\n",
        "ans. To test such cases, I would\n",
        "\n",
        "- Compare actual demand patterns with surge pricing activation\n",
        "\n",
        "- Analyze correlation between weather conditions and genuine ride requests\n",
        "\n",
        "- Test pricing sensitivity and elasticity\n",
        "\n",
        "- Examine pricing patterns across different demographics and locations"
      ],
      "metadata": {
        "id": "IyRRmNAWEA-i"
      }
    }
  ]
}